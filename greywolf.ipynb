{
 "cells": [
  {
   "cell_type": "markdown",
   "id": "7114627a",
   "metadata": {
    "papermill": {
     "duration": 0.003733,
     "end_time": "2023-10-14T10:44:06.410506",
     "exception": false,
     "start_time": "2023-10-14T10:44:06.406773",
     "status": "completed"
    },
    "tags": []
   },
   "source": [
    "**This notebook implements the [grey wolf optimiser](https://www.sciencedirect.com/science/article/pii/S0965997813001853) to select the best features for a cyberattack classifier.** Each feature subset tested is used to train a classifier on the [Canadian Institute of Cybersecurity's IoT-2023 dataset](https://www.kaggle.com/datasets/madhavmalhotra/unb-cic-iot-dataset). \n",
    "\n",
    "\n",
    "**The current algorithm works, though it's slowed down a lot by the error function** (which trains a two-layer neural network from scratch and evaluates its accuracy) for every feature subset tried. This proved to be difficult to optimise with a NVIDIA K80 GPU due to low GPU utilisation rates (20%). The likely bottleneck is transferring data onto the GPU, so more work is needed.  \n",
    "\n",
    "\n",
    "# Load Libraries"
   ]
  },
  {
   "cell_type": "code",
   "execution_count": 1,
   "id": "946c94a6",
   "metadata": {
    "_cell_guid": "b1076dfc-b9ad-4769-8c92-a6c4dae69d19",
    "_uuid": "8f2839f25d086af736a60e9eeb907d3b93b6e0e5",
    "execution": {
     "iopub.execute_input": "2023-10-14T10:44:06.419915Z",
     "iopub.status.busy": "2023-10-14T10:44:06.419622Z",
     "iopub.status.idle": "2023-10-14T10:44:11.740361Z",
     "shell.execute_reply": "2023-10-14T10:44:11.739203Z"
    },
    "papermill": {
     "duration": 5.327112,
     "end_time": "2023-10-14T10:44:11.742514",
     "exception": false,
     "start_time": "2023-10-14T10:44:06.415402",
     "status": "completed"
    },
    "tags": []
   },
   "outputs": [],
   "source": [
    "# Data handling and automatic backprop\n",
    "import torch as t\n",
    "import pandas as pd\n",
    "\n",
    "# Misc\n",
    "from typing import Callable\n",
    "import matplotlib.pyplot as plt\n",
    "\n",
    "# Data handling\n",
    "from sklearn.preprocessing import StandardScaler\n",
    "from sklearn.model_selection import train_test_split"
   ]
  },
  {
   "cell_type": "markdown",
   "id": "eaeea946",
   "metadata": {
    "papermill": {
     "duration": 0.002816,
     "end_time": "2023-10-14T10:44:11.748545",
     "exception": false,
     "start_time": "2023-10-14T10:44:11.745729",
     "status": "completed"
    },
    "tags": []
   },
   "source": [
    "# Create Grey Wolf Optimiser \n",
    "\n",
    "I made this class independent of the fitness function that it was called with, so it's easy to customise (and hopefully further optimise) the error function in the future. "
   ]
  },
  {
   "cell_type": "code",
   "execution_count": 2,
   "id": "17b4b597",
   "metadata": {
    "execution": {
     "iopub.execute_input": "2023-10-14T10:44:11.755768Z",
     "iopub.status.busy": "2023-10-14T10:44:11.755389Z",
     "iopub.status.idle": "2023-10-14T10:44:11.768172Z",
     "shell.execute_reply": "2023-10-14T10:44:11.766954Z"
    },
    "papermill": {
     "duration": 0.018662,
     "end_time": "2023-10-14T10:44:11.770027",
     "exception": false,
     "start_time": "2023-10-14T10:44:11.751365",
     "status": "completed"
    },
    "tags": []
   },
   "outputs": [],
   "source": [
    "class GreyWolfOptimiser:\n",
    "    \"\"\" Creates an optimiser for feature selection in a large dataset \"\"\"\n",
    "\n",
    "    def __init__(self, error_function : Callable[[t.Tensor], float], \n",
    "                 population_size : int, num_dimensions : int, num_iterations : int, \n",
    "                 mean : float = 1.0, c_err : float = 1.0, c_size : float = 1.0, a : float = 2.0) -> None:\n",
    "        \n",
    "        # This is the bottleneck. It evaluates how good a particular subset of features is. \n",
    "        # Function specs: input = t.Tensor (dim: num_dimensions). return = float (0-1).\n",
    "        self.err = error_function\n",
    "        \n",
    "        # number of wolves (min 3, raise for larger feature spaces)\n",
    "        self.pop = population_size\n",
    "        \n",
    "        # number of features to select from \n",
    "        self.dims = num_dimensions \n",
    "        \n",
    "        # how many times to test solutions (raise for larger feature spaces)  \n",
    "        self.iters = num_iterations\n",
    "        \n",
    "        # generalised mean exponent (1.0 = arithmetic mean, ~0.0+ = geometric)\n",
    "        self.mean = mean\n",
    "        \n",
    "        # how much to prioritise error function minimisation vs. size of feature set\n",
    "        self.c_err = c_err\n",
    "        self.c_size = c_size\n",
    "        \n",
    "        # how much wolves explore (increase for more exploration)\n",
    "        self.a = a\n",
    "\n",
    "    def init_wolves(self) -> t.Tensor:\n",
    "        \"\"\" Returns a population of wolves with random 1/0s per feature to include/exclude \"\"\"\n",
    "        return t.randint(2, (self.pop, self.dims))\n",
    "        \n",
    "    def fitness(self, wolves : t.Tensor) -> t.Tensor:\n",
    "        \"\"\" Returns error of each wolf in the population (lower is better) \"\"\"\n",
    "        return t.Tensor([\n",
    "            self.c_err * self.err(w) + self.c_size * (t.sum(w) / self.dims) for w in wolves\n",
    "            ])\n",
    "\n",
    "    def compare_wolves(self, wolves : t.Tensor) -> list:\n",
    "        \"\"\" Returns [positions, fitness, followers] of alpha, beta, delta wolves \"\"\"\n",
    "        f = self.fitness(wolves)\n",
    "        sort_f = t.argsort(f)        \n",
    "        sorted_wolves = wolves[sort_f]\n",
    "        return sorted_wolves[:3], f[sort_f][:3], sorted_wolves[3:]\n",
    "    \n",
    "    def next_positions(self, wolves : t.Tensor, top : t.Tensor, \n",
    "                       curr_iter : int) -> t.Tensor:\n",
    "        \"\"\" \n",
    "        For each wolf, find possible next positions given alpha, beta, delta \n",
    "        \n",
    "        Parameters\n",
    "        ----------------\n",
    "        wolves (type: t.Tensor, dim: (pop_size, feature_dims)): \n",
    "            positions of all wolves\n",
    "        top (type: t.Tensor, dim: (3, feature_dims)): \n",
    "            positions of alpha, beta, delta wolves\n",
    "        curr_iter (type: int): \n",
    "            current iteration number\n",
    "\n",
    "        Returns\n",
    "        ----------------\n",
    "        next_positions (type: np.ndarray, dim: (pop_size, 3, feature_dims)): \n",
    "            three possible next positions for each wolf given alpha, beta, delta\n",
    "        \"\"\"\n",
    "        \n",
    "        # Update current a vector\n",
    "        a_curr = self.a * (1 - curr_iter / self.iters)\n",
    "        # Generate random vectors\n",
    "        r1 = t.rand((1, self.dims))\n",
    "        r2 = t.rand((1, self.dims))\n",
    "\n",
    "        # Compute alpha, beta, delta distances\n",
    "        d_alpha = t.abs(2 * r1 * top[0:1, :] - wolves)\n",
    "        d_alpha = top[0:1, :] - (2 * a_curr * r2 - a_curr) * d_alpha\n",
    "        d_beta = t.abs(2 * r1 * top[1:2, :] - wolves)\n",
    "        d_beta = top[1:2, :] - (2 * a_curr * r2 - a_curr) * d_beta\n",
    "        d_delta = t.abs(2 * r1 * top[2:3, :] - wolves) \n",
    "        d_delta = top[2:3, :] - (2 * a_curr * r2 - a_curr) * d_delta\n",
    "        \n",
    "        # Compute next positions for followers \n",
    "        wolves = (d_alpha + d_beta + d_delta)**self.mean\n",
    "        wolves = (wolves/3) ** (1 / self.mean)\n",
    "        wolves = t.clamp(t.round(wolves), 0, 1)\n",
    "        \n",
    "        # Preserve existing top solutions\n",
    "        return t.cat( (top, wolves) ) \n",
    "    \n",
    "    def optimise(self) -> list:\n",
    "        \"\"\" Returns the best wolf and error history after optimisation \"\"\"\n",
    "\n",
    "        wolves = self.init_wolves()\n",
    "        err_history = []\n",
    "\n",
    "        for i in range(self.iters):\n",
    "            print(f'Iteration: {i}/{self.iters}')\n",
    "            top, err, followers = self.compare_wolves(wolves)\n",
    "            err_history.append(err[0])\n",
    "            wolves = self.next_positions(followers, top, i)\n",
    "\n",
    "        return self.compare_wolves(wolves)[0][0], err_history"
   ]
  },
  {
   "cell_type": "markdown",
   "id": "5c20b1a4",
   "metadata": {
    "papermill": {
     "duration": 0.002624,
     "end_time": "2023-10-14T10:44:11.775712",
     "exception": false,
     "start_time": "2023-10-14T10:44:11.773088",
     "status": "completed"
    },
    "tags": []
   },
   "source": [
    "# Load Data\n",
    "\n",
    "Note: currently, I'm using 0.1% of the CIC-IoT-2023 dataset. Although I've preserved class balance when sampling this 0.1%, the sample of data I have doesn't represent the overall dataset. It's possible for the algorithm to use higher percentages (like 5-10%), though computational time of the custom error function is the current bottleneck."
   ]
  },
  {
   "cell_type": "code",
   "execution_count": 3,
   "id": "e6be85e1",
   "metadata": {
    "execution": {
     "iopub.execute_input": "2023-10-14T10:44:11.782638Z",
     "iopub.status.busy": "2023-10-14T10:44:11.782330Z",
     "iopub.status.idle": "2023-10-14T10:44:12.179716Z",
     "shell.execute_reply": "2023-10-14T10:44:12.178307Z"
    },
    "papermill": {
     "duration": 0.403302,
     "end_time": "2023-10-14T10:44:12.181709",
     "exception": false,
     "start_time": "2023-10-14T10:44:11.778407",
     "status": "completed"
    },
    "tags": []
   },
   "outputs": [],
   "source": [
    "# Setup scaler to reuse\n",
    "df = pd.read_csv('/kaggle/input/creating-a-smaller-dataset-for-ciciot2023/0.001percent_8classes.csv')\n",
    "scaler = StandardScaler()\n",
    "\n",
    "# Drop categorical protocol_type (not useful, see: https://www.kaggle.com/code/madhavmalhotra/feature-exploration-on-ciciot2023/)\n",
    "df = df.drop(['protocol_type'], axis=1)\n",
    "df_labels = df['label']\n",
    "df = df.drop(['label'], axis=1)\n",
    "\n",
    "# Scale numerical features\n",
    "scaler.fit(df)\n",
    "df[:] = scaler.transform(df[:])"
   ]
  },
  {
   "cell_type": "code",
   "execution_count": 4,
   "id": "0d187251",
   "metadata": {
    "execution": {
     "iopub.execute_input": "2023-10-14T10:44:12.189983Z",
     "iopub.status.busy": "2023-10-14T10:44:12.188965Z",
     "iopub.status.idle": "2023-10-14T10:44:12.217253Z",
     "shell.execute_reply": "2023-10-14T10:44:12.216044Z"
    },
    "papermill": {
     "duration": 0.03422,
     "end_time": "2023-10-14T10:44:12.219112",
     "exception": false,
     "start_time": "2023-10-14T10:44:12.184892",
     "status": "completed"
    },
    "tags": []
   },
   "outputs": [
    {
     "data": {
      "text/plain": [
       "label\n",
       "DDoS        33871\n",
       "DoS          8054\n",
       "Mirai        2650\n",
       "Benign       1093\n",
       "Spoofing      545\n",
       "Recon         302\n",
       "Name: count, dtype: int64"
      ]
     },
     "execution_count": 4,
     "metadata": {},
     "output_type": "execute_result"
    }
   ],
   "source": [
    "# Make data types more efficient\n",
    "for col in df.columns:\n",
    "    df[col] = df[col].astype('float32')\n",
    "    \n",
    "df_labels = df_labels.astype('category')\n",
    "df_labels.value_counts()"
   ]
  },
  {
   "cell_type": "code",
   "execution_count": 5,
   "id": "d5cd5340",
   "metadata": {
    "execution": {
     "iopub.execute_input": "2023-10-14T10:44:12.227446Z",
     "iopub.status.busy": "2023-10-14T10:44:12.226882Z",
     "iopub.status.idle": "2023-10-14T10:44:12.252624Z",
     "shell.execute_reply": "2023-10-14T10:44:12.250948Z"
    },
    "papermill": {
     "duration": 0.032529,
     "end_time": "2023-10-14T10:44:12.254956",
     "exception": false,
     "start_time": "2023-10-14T10:44:12.222427",
     "status": "completed"
    },
    "tags": []
   },
   "outputs": [
    {
     "name": "stdout",
     "output_type": "stream",
     "text": [
      "<class 'pandas.core.frame.DataFrame'>\n",
      "RangeIndex: 46515 entries, 0 to 46514\n",
      "Data columns (total 45 columns):\n",
      " #   Column           Non-Null Count  Dtype  \n",
      "---  ------           --------------  -----  \n",
      " 0   flow_duration    46515 non-null  float32\n",
      " 1   header_length    46515 non-null  float32\n",
      " 2   duration         46515 non-null  float32\n",
      " 3   rate             46515 non-null  float32\n",
      " 4   srate            46515 non-null  float32\n",
      " 5   drate            46515 non-null  float32\n",
      " 6   fin_flag_number  46515 non-null  float32\n",
      " 7   syn_flag_number  46515 non-null  float32\n",
      " 8   rst_flag_number  46515 non-null  float32\n",
      " 9   psh_flag_number  46515 non-null  float32\n",
      " 10  ack_flag_number  46515 non-null  float32\n",
      " 11  ece_flag_number  46515 non-null  float32\n",
      " 12  cwr_flag_number  46515 non-null  float32\n",
      " 13  ack_count        46515 non-null  float32\n",
      " 14  syn_count        46515 non-null  float32\n",
      " 15  fin_count        46515 non-null  float32\n",
      " 16  urg_count        46515 non-null  float32\n",
      " 17  rst_count        46515 non-null  float32\n",
      " 18  http             46515 non-null  float32\n",
      " 19  https            46515 non-null  float32\n",
      " 20  dns              46515 non-null  float32\n",
      " 21  telnet           46515 non-null  float32\n",
      " 22  smtp             46515 non-null  float32\n",
      " 23  ssh              46515 non-null  float32\n",
      " 24  irc              46515 non-null  float32\n",
      " 25  tcp              46515 non-null  float32\n",
      " 26  udp              46515 non-null  float32\n",
      " 27  dhcp             46515 non-null  float32\n",
      " 28  arp              46515 non-null  float32\n",
      " 29  icmp             46515 non-null  float32\n",
      " 30  ipv              46515 non-null  float32\n",
      " 31  llc              46515 non-null  float32\n",
      " 32  tot_sum          46515 non-null  float32\n",
      " 33  min              46515 non-null  float32\n",
      " 34  max              46515 non-null  float32\n",
      " 35  avg              46515 non-null  float32\n",
      " 36  std              46515 non-null  float32\n",
      " 37  tot_size         46515 non-null  float32\n",
      " 38  iat              46515 non-null  float32\n",
      " 39  number           46515 non-null  float32\n",
      " 40  magnitue         46515 non-null  float32\n",
      " 41  radius           46515 non-null  float32\n",
      " 42  covariance       46515 non-null  float32\n",
      " 43  variance         46515 non-null  float32\n",
      " 44  weight           46515 non-null  float32\n",
      "dtypes: float32(45)\n",
      "memory usage: 8.0 MB\n"
     ]
    }
   ],
   "source": [
    "df.info()"
   ]
  },
  {
   "cell_type": "code",
   "execution_count": 6,
   "id": "8d1de32f",
   "metadata": {
    "execution": {
     "iopub.execute_input": "2023-10-14T10:44:12.263293Z",
     "iopub.status.busy": "2023-10-14T10:44:12.262953Z",
     "iopub.status.idle": "2023-10-14T10:44:12.320666Z",
     "shell.execute_reply": "2023-10-14T10:44:12.319353Z"
    },
    "papermill": {
     "duration": 0.064128,
     "end_time": "2023-10-14T10:44:12.322692",
     "exception": false,
     "start_time": "2023-10-14T10:44:12.258564",
     "status": "completed"
    },
    "tags": []
   },
   "outputs": [],
   "source": [
    "train, test, train_labels, test_labels = \\\n",
    "    train_test_split(df, df_labels, stratify=df_labels, test_size=0.2)\n",
    "\n",
    "del df\n",
    "del df_labels"
   ]
  },
  {
   "cell_type": "markdown",
   "id": "fb9572e9",
   "metadata": {
    "papermill": {
     "duration": 0.002883,
     "end_time": "2023-10-14T10:44:12.328942",
     "exception": false,
     "start_time": "2023-10-14T10:44:12.326059",
     "status": "completed"
    },
    "tags": []
   },
   "source": [
    "# Create Fitness Evaluation\n",
    "\n",
    "This is the most computationally expensive part of the grey wolf optimiser. So I'll use a simple logistic regression classifier and [only 5% of all data points](https://www.kaggle.com/code/madhavmalhotra/creating-a-smaller-dataset-for-ciciot2023). "
   ]
  },
  {
   "cell_type": "code",
   "execution_count": 7,
   "id": "19c50608",
   "metadata": {
    "execution": {
     "iopub.execute_input": "2023-10-14T10:44:12.336581Z",
     "iopub.status.busy": "2023-10-14T10:44:12.336267Z",
     "iopub.status.idle": "2023-10-14T10:44:12.343276Z",
     "shell.execute_reply": "2023-10-14T10:44:12.341952Z"
    },
    "papermill": {
     "duration": 0.013049,
     "end_time": "2023-10-14T10:44:12.345230",
     "exception": false,
     "start_time": "2023-10-14T10:44:12.332181",
     "status": "completed"
    },
    "tags": []
   },
   "outputs": [],
   "source": [
    "def get_data(wolves : t.Tensor) -> list:\n",
    "    \"\"\" Returns train and test tensors \"\"\"\n",
    "    \n",
    "    # Get tensors\n",
    "    feats = wolves.bool().tolist()\n",
    "    \n",
    "    X_tr = t.from_numpy( train.loc[:, feats].to_numpy() )\n",
    "    y_tr = t.from_numpy(train_labels.cat.codes.to_numpy().copy()).long()\n",
    "    \n",
    "    X_te = t.from_numpy( test.loc[:, feats].to_numpy()  )\n",
    "    y_te = t.from_numpy(test_labels.cat.codes.to_numpy().copy()).long()\n",
    "    \n",
    "    return X_tr, y_tr, X_te, y_te"
   ]
  },
  {
   "cell_type": "code",
   "execution_count": 8,
   "id": "b482867a",
   "metadata": {
    "execution": {
     "iopub.execute_input": "2023-10-14T10:44:12.353416Z",
     "iopub.status.busy": "2023-10-14T10:44:12.353110Z",
     "iopub.status.idle": "2023-10-14T10:44:12.359779Z",
     "shell.execute_reply": "2023-10-14T10:44:12.358670Z"
    },
    "papermill": {
     "duration": 0.013192,
     "end_time": "2023-10-14T10:44:12.361807",
     "exception": false,
     "start_time": "2023-10-14T10:44:12.348615",
     "status": "completed"
    },
    "tags": []
   },
   "outputs": [],
   "source": [
    "WARNING_GLOBAL_COST = []\n",
    "WARNING_GLOBAL_GRAD = []\n",
    "\n",
    "def error_func(wolves : t.Tensor) -> float:\n",
    "    \"\"\" Trains LR classifier on feature subset. Returns change in loss \"\"\"\n",
    "    \n",
    "    print(\".\", end=\"\")\n",
    "    \n",
    "    # Init data, model, loss\n",
    "    X_tr,y_tr, X_te,y_te = get_data(wolves)\n",
    "    model = t.nn.Sequential(t.nn.Linear(X_te.shape[1], len(train_labels.cat.categories)))\n",
    "    \n",
    "    loss = t.nn.CrossEntropyLoss()\n",
    "    start = -loss(model(X_te), y_te)\n",
    "    cost_history = []\n",
    "    grad_history = []\n",
    "    \n",
    "    # Hardcoding values since this func must be custom (ie. it won't be reused)\n",
    "    lr = 0.67\n",
    "    \n",
    "    for iter in range(25):\n",
    "        # Forward and backward pass\n",
    "        pred = model(X_tr)\n",
    "        cost = loss(pred,y_tr)\n",
    "        \n",
    "        cost_history.append(float(cost))\n",
    "        cost.backward()\n",
    "        \n",
    "        # Update parameters\n",
    "        with t.no_grad():\n",
    "            for p in model.parameters():\n",
    "                p -= lr * p.grad\n",
    "                grad_history.append(t.norm(lr * p.grad))\n",
    "            \n",
    "            model.zero_grad()\n",
    "    \n",
    "    # Save visualisation data and return change in performance\n",
    "    WARNING_GLOBAL_COST.append(cost_history)\n",
    "    WARNING_GLOBAL_GRAD.append(grad_history)\n",
    "    return start + loss(model(X_te), y_te)"
   ]
  },
  {
   "cell_type": "markdown",
   "id": "5519cd20",
   "metadata": {
    "papermill": {
     "duration": 0.003268,
     "end_time": "2023-10-14T10:44:12.368916",
     "exception": false,
     "start_time": "2023-10-14T10:44:12.365648",
     "status": "completed"
    },
    "tags": []
   },
   "source": [
    "# Run GWO"
   ]
  },
  {
   "cell_type": "code",
   "execution_count": 9,
   "id": "9456bf7c",
   "metadata": {
    "execution": {
     "iopub.execute_input": "2023-10-14T10:44:12.377382Z",
     "iopub.status.busy": "2023-10-14T10:44:12.377016Z",
     "iopub.status.idle": "2023-10-14T10:44:12.381823Z",
     "shell.execute_reply": "2023-10-14T10:44:12.380807Z"
    },
    "papermill": {
     "duration": 0.011092,
     "end_time": "2023-10-14T10:44:12.383642",
     "exception": false,
     "start_time": "2023-10-14T10:44:12.372550",
     "status": "completed"
    },
    "tags": []
   },
   "outputs": [],
   "source": [
    "population_size = 50                     \n",
    "num_dimensions = len(train.columns)\n",
    "max_iters = 10                            \n",
    "c_err = 10                            # Minimise error, not size\n",
    "c_size = 0\n",
    "\n",
    "gwo = GreyWolfOptimiser(error_func, population_size, num_dimensions, max_iters, c_err=c_err, c_size=c_size)"
   ]
  },
  {
   "cell_type": "code",
   "execution_count": 10,
   "id": "d9d00fc9",
   "metadata": {
    "execution": {
     "iopub.execute_input": "2023-10-14T10:44:12.392047Z",
     "iopub.status.busy": "2023-10-14T10:44:12.391655Z",
     "iopub.status.idle": "2023-10-14T10:45:45.488625Z",
     "shell.execute_reply": "2023-10-14T10:45:45.487606Z"
    },
    "papermill": {
     "duration": 93.103509,
     "end_time": "2023-10-14T10:45:45.490729",
     "exception": false,
     "start_time": "2023-10-14T10:44:12.387220",
     "status": "completed"
    },
    "tags": []
   },
   "outputs": [
    {
     "name": "stdout",
     "output_type": "stream",
     "text": [
      "Iteration: 0/10\n",
      "..................................................Iteration: 1/10\n",
      "..................................................Iteration: 2/10\n",
      "..................................................Iteration: 3/10\n",
      "..................................................Iteration: 4/10\n",
      "..................................................Iteration: 5/10\n",
      "..................................................Iteration: 6/10\n",
      "..................................................Iteration: 7/10\n",
      "..................................................Iteration: 8/10\n",
      "..................................................Iteration: 9/10\n",
      "...................................................................................................."
     ]
    }
   ],
   "source": [
    "WARNING_GLOBAL_COST = []\n",
    "WARNING_GLOBAL_GRAD = []\n",
    "top, err = gwo.optimise()"
   ]
  },
  {
   "cell_type": "code",
   "execution_count": 11,
   "id": "0fdd40d1",
   "metadata": {
    "execution": {
     "iopub.execute_input": "2023-10-14T10:45:45.517954Z",
     "iopub.status.busy": "2023-10-14T10:45:45.517527Z",
     "iopub.status.idle": "2023-10-14T10:45:45.541549Z",
     "shell.execute_reply": "2023-10-14T10:45:45.539419Z"
    },
    "papermill": {
     "duration": 0.040737,
     "end_time": "2023-10-14T10:45:45.544109",
     "exception": false,
     "start_time": "2023-10-14T10:45:45.503372",
     "status": "completed"
    },
    "tags": []
   },
   "outputs": [
    {
     "data": {
      "text/html": [
       "<div>\n",
       "<style scoped>\n",
       "    .dataframe tbody tr th:only-of-type {\n",
       "        vertical-align: middle;\n",
       "    }\n",
       "\n",
       "    .dataframe tbody tr th {\n",
       "        vertical-align: top;\n",
       "    }\n",
       "\n",
       "    .dataframe thead th {\n",
       "        text-align: right;\n",
       "    }\n",
       "</style>\n",
       "<table border=\"1\" class=\"dataframe\">\n",
       "  <thead>\n",
       "    <tr style=\"text-align: right;\">\n",
       "      <th></th>\n",
       "      <th>header_length</th>\n",
       "      <th>duration</th>\n",
       "      <th>rst_flag_number</th>\n",
       "      <th>dns</th>\n",
       "      <th>tot_sum</th>\n",
       "      <th>avg</th>\n",
       "      <th>std</th>\n",
       "      <th>iat</th>\n",
       "      <th>magnitue</th>\n",
       "      <th>weight</th>\n",
       "    </tr>\n",
       "  </thead>\n",
       "  <tbody>\n",
       "    <tr>\n",
       "      <th>26344</th>\n",
       "      <td>-0.138598</td>\n",
       "      <td>-0.165953</td>\n",
       "      <td>-0.316366</td>\n",
       "      <td>-0.008031</td>\n",
       "      <td>-0.294379</td>\n",
       "      <td>-0.305890</td>\n",
       "      <td>-0.199067</td>\n",
       "      <td>-0.004376</td>\n",
       "      <td>-0.357649</td>\n",
       "      <td>0.001912</td>\n",
       "    </tr>\n",
       "    <tr>\n",
       "      <th>40290</th>\n",
       "      <td>-0.166881</td>\n",
       "      <td>-0.165953</td>\n",
       "      <td>-0.316366</td>\n",
       "      <td>-0.008031</td>\n",
       "      <td>-0.326019</td>\n",
       "      <td>-0.338722</td>\n",
       "      <td>-0.199067</td>\n",
       "      <td>0.017604</td>\n",
       "      <td>-0.453998</td>\n",
       "      <td>0.001912</td>\n",
       "    </tr>\n",
       "    <tr>\n",
       "      <th>42566</th>\n",
       "      <td>-0.110815</td>\n",
       "      <td>0.754494</td>\n",
       "      <td>-0.316366</td>\n",
       "      <td>-0.008031</td>\n",
       "      <td>-0.335887</td>\n",
       "      <td>-0.226652</td>\n",
       "      <td>-0.068371</td>\n",
       "      <td>-4.866498</td>\n",
       "      <td>-0.158713</td>\n",
       "      <td>-4.872141</td>\n",
       "    </tr>\n",
       "    <tr>\n",
       "      <th>26011</th>\n",
       "      <td>-0.166767</td>\n",
       "      <td>-0.165953</td>\n",
       "      <td>-0.316366</td>\n",
       "      <td>-0.008031</td>\n",
       "      <td>-0.278560</td>\n",
       "      <td>-0.289474</td>\n",
       "      <td>-0.199067</td>\n",
       "      <td>0.007742</td>\n",
       "      <td>-0.312373</td>\n",
       "      <td>0.001912</td>\n",
       "    </tr>\n",
       "    <tr>\n",
       "      <th>20396</th>\n",
       "      <td>-0.166767</td>\n",
       "      <td>-0.165953</td>\n",
       "      <td>3.160895</td>\n",
       "      <td>-0.008031</td>\n",
       "      <td>-0.278560</td>\n",
       "      <td>-0.289474</td>\n",
       "      <td>-0.199067</td>\n",
       "      <td>0.009554</td>\n",
       "      <td>-0.312373</td>\n",
       "      <td>0.001912</td>\n",
       "    </tr>\n",
       "  </tbody>\n",
       "</table>\n",
       "</div>"
      ],
      "text/plain": [
       "       header_length  duration  rst_flag_number       dns   tot_sum       avg  \\\n",
       "26344      -0.138598 -0.165953        -0.316366 -0.008031 -0.294379 -0.305890   \n",
       "40290      -0.166881 -0.165953        -0.316366 -0.008031 -0.326019 -0.338722   \n",
       "42566      -0.110815  0.754494        -0.316366 -0.008031 -0.335887 -0.226652   \n",
       "26011      -0.166767 -0.165953        -0.316366 -0.008031 -0.278560 -0.289474   \n",
       "20396      -0.166767 -0.165953         3.160895 -0.008031 -0.278560 -0.289474   \n",
       "\n",
       "            std       iat  magnitue    weight  \n",
       "26344 -0.199067 -0.004376 -0.357649  0.001912  \n",
       "40290 -0.199067  0.017604 -0.453998  0.001912  \n",
       "42566 -0.068371 -4.866498 -0.158713 -4.872141  \n",
       "26011 -0.199067  0.007742 -0.312373  0.001912  \n",
       "20396 -0.199067  0.009554 -0.312373  0.001912  "
      ]
     },
     "execution_count": 11,
     "metadata": {},
     "output_type": "execute_result"
    }
   ],
   "source": [
    "# Show the best features selected in the end\n",
    "feats = top.bool().tolist()\n",
    "train.loc[:, feats].head()"
   ]
  },
  {
   "cell_type": "code",
   "execution_count": 12,
   "id": "1345ed36",
   "metadata": {
    "execution": {
     "iopub.execute_input": "2023-10-14T10:45:45.571526Z",
     "iopub.status.busy": "2023-10-14T10:45:45.571246Z",
     "iopub.status.idle": "2023-10-14T10:45:45.584295Z",
     "shell.execute_reply": "2023-10-14T10:45:45.582976Z"
    },
    "papermill": {
     "duration": 0.028363,
     "end_time": "2023-10-14T10:45:45.585815",
     "exception": false,
     "start_time": "2023-10-14T10:45:45.557452",
     "status": "completed"
    },
    "tags": []
   },
   "outputs": [
    {
     "name": "stdout",
     "output_type": "stream",
     "text": [
      "<class 'pandas.core.frame.DataFrame'>\n",
      "Index: 37212 entries, 26344 to 26993\n",
      "Data columns (total 10 columns):\n",
      " #   Column           Non-Null Count  Dtype  \n",
      "---  ------           --------------  -----  \n",
      " 0   header_length    37212 non-null  float32\n",
      " 1   duration         37212 non-null  float32\n",
      " 2   rst_flag_number  37212 non-null  float32\n",
      " 3   dns              37212 non-null  float32\n",
      " 4   tot_sum          37212 non-null  float32\n",
      " 5   avg              37212 non-null  float32\n",
      " 6   std              37212 non-null  float32\n",
      " 7   iat              37212 non-null  float32\n",
      " 8   magnitue         37212 non-null  float32\n",
      " 9   weight           37212 non-null  float32\n",
      "dtypes: float32(10)\n",
      "memory usage: 1.7 MB\n"
     ]
    }
   ],
   "source": [
    "train.loc[:, feats].info()"
   ]
  },
  {
   "cell_type": "code",
   "execution_count": 13,
   "id": "8fbe07ed",
   "metadata": {
    "execution": {
     "iopub.execute_input": "2023-10-14T10:45:45.614213Z",
     "iopub.status.busy": "2023-10-14T10:45:45.613129Z",
     "iopub.status.idle": "2023-10-14T10:45:45.818536Z",
     "shell.execute_reply": "2023-10-14T10:45:45.817096Z"
    },
    "papermill": {
     "duration": 0.22191,
     "end_time": "2023-10-14T10:45:45.820579",
     "exception": false,
     "start_time": "2023-10-14T10:45:45.598669",
     "status": "completed"
    },
    "tags": []
   },
   "outputs": [
    {
     "data": {
      "image/png": "[encoded data removed]",
      "text/plain": [
       "<Figure size 1200x800 with 1 Axes>"
      ]
     },
     "metadata": {},
     "output_type": "display_data"
    }
   ],
   "source": [
    "# This is how the best feature selection changed over time\n",
    "plt.figure(figsize=(12,8))\n",
    "plt.xlabel(\"Iterations\", size='xx-large')\n",
    "plt.ylabel(\"Error\", size='xx-large')\n",
    "\n",
    "plt.plot(range(len(err)), err, color='red')\n",
    "plt.show()"
   ]
  },
  {
   "cell_type": "code",
   "execution_count": 14,
   "id": "a802eca1",
   "metadata": {
    "execution": {
     "iopub.execute_input": "2023-10-14T10:45:45.849961Z",
     "iopub.status.busy": "2023-10-14T10:45:45.849087Z",
     "iopub.status.idle": "2023-10-14T10:45:46.032227Z",
     "shell.execute_reply": "2023-10-14T10:45:46.031244Z"
    },
    "papermill": {
     "duration": 0.19942,
     "end_time": "2023-10-14T10:45:46.033693",
     "exception": false,
     "start_time": "2023-10-14T10:45:45.834273",
     "status": "completed"
    },
    "tags": []
   },
   "outputs": [
    {
     "data": {
      "text/plain": [
       "[<matplotlib.lines.Line2D at 0x7c2acb550760>]"
      ]
     },
     "execution_count": 14,
     "metadata": {},
     "output_type": "execute_result"
    },
    {
     "data": {
      "image/png": "[encoded data removed]",
      "text/plain": [
       "<Figure size 1200x800 with 1 Axes>"
      ]
     },
     "metadata": {},
     "output_type": "display_data"
    }
   ],
   "source": [
    "plt.figure(figsize=(12,8))\n",
    "plt.xlabel(\"Iterations\", size='xx-large')\n",
    "plt.ylabel(\"Loss\", size='xx-large')\n",
    "plt.plot(range(len(WARNING_GLOBAL_COST[3])), WARNING_GLOBAL_COST[3]) "
   ]
  },
  {
   "cell_type": "code",
   "execution_count": 15,
   "id": "c51be6d4",
   "metadata": {
    "execution": {
     "iopub.execute_input": "2023-10-14T10:45:46.062699Z",
     "iopub.status.busy": "2023-10-14T10:45:46.062206Z",
     "iopub.status.idle": "2023-10-14T10:45:46.245540Z",
     "shell.execute_reply": "2023-10-14T10:45:46.244716Z"
    },
    "papermill": {
     "duration": 0.199831,
     "end_time": "2023-10-14T10:45:46.247037",
     "exception": false,
     "start_time": "2023-10-14T10:45:46.047206",
     "status": "completed"
    },
    "tags": []
   },
   "outputs": [
    {
     "data": {
      "text/plain": [
       "[<matplotlib.lines.Line2D at 0x7c2acb3e9e40>]"
      ]
     },
     "execution_count": 15,
     "metadata": {},
     "output_type": "execute_result"
    },
    {
     "data": {
      "image/png": "[encoded data removed]",
      "text/plain": [
       "<Figure size 1200x800 with 1 Axes>"
      ]
     },
     "metadata": {},
     "output_type": "display_data"
    }
   ],
   "source": [
    "plt.figure(figsize=(12,8))\n",
    "plt.xlabel(\"Iterations\", size='xx-large')\n",
    "plt.ylabel(\"Gradient magnitude\", size='xx-large')\n",
    "plt.plot(range(len(WARNING_GLOBAL_GRAD[0])), WARNING_GLOBAL_GRAD[0]) "
   ]
  }
 ],
 "metadata": {
  "kernelspec": {
   "display_name": "Python 3",
   "language": "python",
   "name": "python3"
  },
  "language_info": {
   "codemirror_mode": {
    "name": "ipython",
    "version": 3
   },
   "file_extension": ".py",
   "mimetype": "text/x-python",
   "name": "python",
   "nbconvert_exporter": "python",
   "pygments_lexer": "ipython3",
   "version": "3.10.12"
  },
  "papermill": {
   "default_parameters": {},
   "duration": 103.626166,
   "end_time": "2023-10-14T10:45:47.284800",
   "environment_variables": {},
   "exception": null,
   "input_path": "__notebook__.ipynb",
   "output_path": "__notebook__.ipynb",
   "parameters": {},
   "start_time": "2023-10-14T10:44:03.658634",
   "version": "2.4.0"
  }
 },
 "nbformat": 4,
 "nbformat_minor": 5
}
