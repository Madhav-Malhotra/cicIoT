{
 "cells": [
  {
   "cell_type": "markdown",
   "id": "f883632b",
   "metadata": {
    "papermill": {
     "duration": 0.003867,
     "end_time": "2023-10-10T16:16:44.960192",
     "exception": false,
     "start_time": "2023-10-10T16:16:44.956325",
     "status": "completed"
    },
    "tags": []
   },
   "source": [
    "This notebook extracts 0.1, 0.5, 1, 5, and 10% of records from the 13 GB [CIC-IoT-2023 dataset](https://www.kaggle.com/datasets/madhavmalhotra/unb-cic-iot-dataset). The aim is to **get a smaller dataset for quick experimentation while preserving class balance.**\n",
    "\n",
    "Note: output files are available with 34 original cyberattack labels (suffix `_34`), 8 simplified cyberattack types (suffix `_8`), or just cyberattack or no cyberattack (suffix `_2`).\n",
    "\n",
    "Author: [Vishnu Mugundan](https://www.linkedin.com/in/vishnu-mugundan?originalSubdomain=ca), Wat.ai, University of Waterloo\n",
    "\n",
    "Author: Madhav Malhotra, Wat.ai, University of Waterloo\n",
    "\n",
    "&nbsp; &nbsp; &nbsp;\n",
    "\n",
    "## Loading Libraries and Data\n",
    "\n",
    "We created dataset copies with 34, 8, and 2 output labels. This is in case you want to classify cyberattacks in full detail vs. simplified detail vs. just cyberattack or no cyberattack. "
   ]
  },
  {
   "cell_type": "code",
   "execution_count": 1,
   "id": "0842639f",
   "metadata": {
    "execution": {
     "iopub.execute_input": "2023-10-10T16:16:44.971142Z",
     "iopub.status.busy": "2023-10-10T16:16:44.970772Z",
     "iopub.status.idle": "2023-10-10T16:16:45.405815Z",
     "shell.execute_reply": "2023-10-10T16:16:45.404948Z"
    },
    "papermill": {
     "duration": 0.442702,
     "end_time": "2023-10-10T16:16:45.408597",
     "exception": false,
     "start_time": "2023-10-10T16:16:44.965895",
     "status": "completed"
    },
    "tags": []
   },
   "outputs": [],
   "source": [
    "import os              # loading files\n",
    "import numpy as np     # intermediary data handling\n",
    "import pandas as pd    # data processing"
   ]
  },
  {
   "cell_type": "code",
   "execution_count": 2,
   "id": "d20f35d6",
   "metadata": {
    "_cell_guid": "b1076dfc-b9ad-4769-8c92-a6c4dae69d19",
    "_uuid": "8f2839f25d086af736a60e9eeb907d3b93b6e0e5",
    "execution": {
     "iopub.execute_input": "2023-10-10T16:16:45.418087Z",
     "iopub.status.busy": "2023-10-10T16:16:45.416816Z",
     "iopub.status.idle": "2023-10-10T16:16:45.487874Z",
     "shell.execute_reply": "2023-10-10T16:16:45.486706Z"
    },
    "papermill": {
     "duration": 0.078633,
     "end_time": "2023-10-10T16:16:45.490663",
     "exception": false,
     "start_time": "2023-10-10T16:16:45.412030",
     "status": "completed"
    },
    "tags": []
   },
   "outputs": [],
   "source": [
    "# List CSV files\n",
    "DATASET_DIRECTORY = \"/kaggle/input/unb-cic-iot-dataset/wataiData/csv/CICIoT2023/\"\n",
    "csv_files = [k for k in os.listdir(DATASET_DIRECTORY) if k.endswith('.csv')]\n",
    "csv_files.sort()"
   ]
  },
  {
   "cell_type": "markdown",
   "id": "1db8b79c",
   "metadata": {
    "papermill": {
     "duration": 0.002989,
     "end_time": "2023-10-10T16:16:45.497301",
     "exception": false,
     "start_time": "2023-10-10T16:16:45.494312",
     "status": "completed"
    },
    "tags": []
   },
   "source": [
    "&nbsp; &nbsp; &nbsp;\n",
    "\n",
    "## Dataset Extraction Functions\n",
    "\n",
    "There's a function to sample random rows from the overall dataset, to remap IANA codes from integers to human-friendly labels, and to reduce memory usage by avoiding all float data types. "
   ]
  },
  {
   "cell_type": "code",
   "execution_count": 3,
   "id": "accef978",
   "metadata": {
    "execution": {
     "iopub.execute_input": "2023-10-10T16:16:45.505138Z",
     "iopub.status.busy": "2023-10-10T16:16:45.504765Z",
     "iopub.status.idle": "2023-10-10T16:16:45.512252Z",
     "shell.execute_reply": "2023-10-10T16:16:45.510933Z"
    },
    "papermill": {
     "duration": 0.014335,
     "end_time": "2023-10-10T16:16:45.514663",
     "exception": false,
     "start_time": "2023-10-10T16:16:45.500328",
     "status": "completed"
    },
    "tags": []
   },
   "outputs": [],
   "source": [
    "def sample_rows(df, percent_rows):\n",
    "    '''\n",
    "    Chooses some percentage of the dataframe's rows at random.\n",
    "    Note that class balance is preserved. \n",
    "    \n",
    "    Parameters\n",
    "    ----------------------\n",
    "    df (type: pd.DataFrame)\n",
    "    percent_rows (type: float, range: 0-1)\n",
    "    \n",
    "    Returns\n",
    "    ----------------------\n",
    "    pd.DataFrame\n",
    "    - Contains percent_rows of each class in input df\n",
    "    '''\n",
    "    \n",
    "    labels = df['label'].unique()\n",
    "    dfs_condensed = []\n",
    "    \n",
    "    # Select rows with chosen label\n",
    "    for label in labels:\n",
    "        mask = df['label'] == label\n",
    "        df_by_label = df[mask]\n",
    "        \n",
    "        # Randomly sample some percentage of rows in current class\n",
    "        sample = df_by_label.sample(frac = percent_rows)\n",
    "        dfs_condensed.append(sample)\n",
    "    \n",
    "    # gather all samples together and shuffle them\n",
    "    return pd.concat(dfs_condensed, ignore_index = True).sample(frac = 1)"
   ]
  },
  {
   "cell_type": "code",
   "execution_count": 4,
   "id": "c36979c3",
   "metadata": {
    "execution": {
     "iopub.execute_input": "2023-10-10T16:16:45.523338Z",
     "iopub.status.busy": "2023-10-10T16:16:45.522926Z",
     "iopub.status.idle": "2023-10-10T16:16:45.539527Z",
     "shell.execute_reply": "2023-10-10T16:16:45.538283Z"
    },
    "papermill": {
     "duration": 0.023844,
     "end_time": "2023-10-10T16:16:45.542021",
     "exception": false,
     "start_time": "2023-10-10T16:16:45.518177",
     "status": "completed"
    },
    "tags": []
   },
   "outputs": [],
   "source": [
    "# Map IANA Protocol numbers to one-hot encoded boolean data\n",
    "iana_map = { \n",
    "    \"0\": \"HOPOPT\", \"1\": \"ICMP\", \"2\": \"IGMP\", \"3\": \"GGP\", \"4\": \"IPv4\", \"5\": \"ST\", \n",
    "    \"6\": \"TCP\", \"7\": \"CBT\", \"8\": \"EGP\", \"9\": \"IGP\", \"10\": \"BBN-RCC-MON\", \"11\": \"NVP-II\", \n",
    "    \"12\": \"PUP\", \"13\": \"ARGUS (deprecated)\", \"14\": \"EMCON\", \"15\": \"XNET\", \"16\": \"CHAOS\", \n",
    "    \"17\": \"UDP\", \"18\": \"MUX\", \"19\": \"DCN-MEAS\", \"20\": \"HMP\", \"21\": \"PRM\", \"22\": \"XNS-IDP\", \n",
    "    \"23\": \"TRUNK-1\", \"24\": \"TRUNK-2\", \"25\": \"LEAF-1\", \"26\": \"LEAF-2\", \"27\": \"RDP\", \n",
    "    \"28\": \"IRTP\", \"29\": \"ISO-TP4\", \"30\": \"NETBLT\", \"31\": \"MFE-NSP\", \"32\": \"MERIT-INP\", \n",
    "    \"33\": \"DCCP\", \"34\": \"3PC\", \"35\": \"IDPR\", \"36\": \"XTP\", \"37\": \"DDP\", \"38\": \"IDPR-CMTP\", \n",
    "    \"39\": \"TP++\", \"40\": \"IL\", \"41\": \"IPv6\", \"42\": \"SDRP\", \"43\": \"IPv6-Route\", \n",
    "    \"44\": \"IPv6-Frag\", \"45\": \"IDRP\", \"46\": \"RSVP\", \"47\": \"GRE\", \"48\": \"DSR\", \"49\": \"BNA\", \n",
    "    \"50\": \"ESP\", \"51\": \"AH\", \"52\": \"I-NLSP\", \"53\": \"SWIPE (deprecated)\", \"54\": \"NARP\", \n",
    "    \"55\": \"MOBILE\", \"56\": \"TLSP\", \"57\": \"SKIP\", \"58\": \"IPv6-ICMP\", \"59\": \"IPv6-NoNxt\", \n",
    "    \"60\": \"IPv6-Opts\", \"62\": \"CFTP\", \"64\": \"SAT-EXPAK\", \"65\": \"KRYPTOLAN\", \"66\": \"RVD\", \n",
    "    \"67\": \"IPPC\", \"69\": \"SAT-MON\", \"70\": \"VISA\", \"71\": \"IPCV\", \"72\": \"CPNX\", \"73\": \"CPHB\", \n",
    "    \"74\": \"WSN\", \"75\": \"PVP\", \"76\": \"BR-SAT-MON\", \"77\": \"SUN-ND\", \"78\": \"WB-MON\", \n",
    "    \"79\": \"WB-EXPAK\", \"80\": \"ISO-IP\", \"81\": \"VMTP\", \"82\": \"SECURE-VMTP\", \"83\": \"VINES\", \n",
    "    \"84\": \"IPTM\", \"85\": \"NSFNET-IGP\", \"86\": \"DGP\", \"87\": \"TCF\", \"88\": \"EIGRP\", \n",
    "    \"89\": \"OSPFIGP\", \"90\": \"Sprite-RPC\", \"91\": \"LARP\", \"92\": \"MTP\", \"93\": \"AX.25\", \n",
    "    \"94\": \"IPIP\", \"95\": \"MICP (deprecated)\",\"96\": \"SCC-SP\", \"97\": \"ETHERIP\", \"98\": \"ENCAP\", \n",
    "    \"100\": \"GMTP\", \"101\": \"IFMP\", \"102\": \"PNNI\", \"103\": \"PIM\", \"104\": \"ARIS\", \"105\": \"SCPS\", \n",
    "    \"106\": \"QNX\", \"107\": \"A/N\", \"108\": \"IPComp\", \"109\": \"SNP\", \"110\": \"Compaq-Peer\", \n",
    "    \"111\": \"IPX-in-IP\", \"112\": \"VRRP\", \"113\": \"PGM\", \"114\": \"\", \"115\": \"L2TP\", \"116\": \"DDX\",  \n",
    "    \"117\": \"IATP\", \"118\": \"STP\", \"119\": \"SRP\", \"120\": \"UTI\", \"121\": \"SMP\", \n",
    "    \"122\": \"SM (deprecated)\", \"123\": \"PTP\",\"124\": \"ISIS over IPv4\", \"125\": \"FIRE\", \n",
    "    \"126\": \"CRTP\", \"127\": \"CRUDP\", \"128\": \"SSCOPMCE\", \"129\": \"IPLT\", \"130\": \"SPS\", \n",
    "    \"131\": \"PIPE\", \"132\": \"SCTP\",  \"133\": \"FC\", \"134\": \"RSVP-E2E-IGNORE\", \n",
    "    \"135\": \"Mobility Header\", \"136\": \"UDPLite\", \"137\": \"MPLS-in-IP\", \"138\": \"manet\", \n",
    "    \"139\": \"HIP\", \"140\": \"Shim6\", \"141\": \"WESP\", \"142\": \"ROHC\", \"143\": \"Ethernet\", \n",
    "    \"144\": \"AGGFRAG\", \"145\": \"NSH\"\n",
    "}\n",
    "\n",
    "def iana_convert(df):\n",
    "    df[\"Protocol Type\"] = df[\"Protocol Type\"].apply(lambda num : iana_map[ str(int(num)) ])\n",
    "    return df"
   ]
  },
  {
   "cell_type": "code",
   "execution_count": 5,
   "id": "3f7db776",
   "metadata": {
    "execution": {
     "iopub.execute_input": "2023-10-10T16:16:45.550617Z",
     "iopub.status.busy": "2023-10-10T16:16:45.550192Z",
     "iopub.status.idle": "2023-10-10T16:16:45.560331Z",
     "shell.execute_reply": "2023-10-10T16:16:45.558922Z"
    },
    "papermill": {
     "duration": 0.017195,
     "end_time": "2023-10-10T16:16:45.562711",
     "exception": false,
     "start_time": "2023-10-10T16:16:45.545516",
     "status": "completed"
    },
    "tags": []
   },
   "outputs": [],
   "source": [
    "# Convert to reduced space dtypes to save data\n",
    "dtypes = {\n",
    "        'flow_duration': np.float32,\n",
    "        'Header_Length': np.uint32,\n",
    "        'Protocol Type': str,\n",
    "        'Duration': np.float32,\n",
    "        'Rate': np.uint32,\n",
    "        'Srate': np.uint32,\n",
    "        'Drate': np.float32,\n",
    "        'fin_flag_number': np.bool_,\n",
    "        'syn_flag_number': np.bool_,\n",
    "        'rst_flag_number': np.bool_,\n",
    "        'psh_flag_number': np.bool_,\n",
    "        'ack_flag_number': np.bool_,\n",
    "        'ece_flag_number': np.bool_,\n",
    "        'cwr_flag_number': np.bool_,\n",
    "        'ack_count': np.float16,\n",
    "        'syn_count': np.float16,\n",
    "        'fin_count': np.uint16,\n",
    "        'urg_count': np.uint16, \n",
    "        'rst_count': np.uint16, \n",
    "        'HTTP': np.bool_, \n",
    "        'HTTPS': np.bool_, \n",
    "        'DNS': np.bool_, \n",
    "        'Telnet': np.bool_,\n",
    "        'SMTP': np.bool_, \n",
    "        'SSH': np.bool_, \n",
    "        'IRC': np.bool_, \n",
    "        'TCP': np.bool_, \n",
    "        'UDP': np.bool_, \n",
    "        'DHCP': np.bool_, \n",
    "        'ARP': np.bool_, \n",
    "        'ICMP': np.bool_, \n",
    "        'IPv': np.bool_, \n",
    "        'LLC': np.bool_,\n",
    "        'Tot sum': np.float32, \n",
    "        'Min': np.float32, \n",
    "        'Max': np.float32, \n",
    "        'AVG': np.float32, \n",
    "        'Std': np.float32, \n",
    "        'Tot size': np.float32, \n",
    "        'IAT': np.float32, \n",
    "        'Number': np.float32,\n",
    "        'Magnitue': np.float32, \n",
    "        'Radius': np.float32, \n",
    "        'Covariance': np.float32, \n",
    "        'Variance': np.float32, \n",
    "        'Weight': np.float32, \n",
    "        'label': str\n",
    "    }\n",
    "\n",
    "def convert_dtype(df):\n",
    "    # Adjust data type\n",
    "    for col,typ in dtypes.items():\n",
    "        df[col] = df[col].astype(typ)   \n",
    "    \n",
    "    # Format column names to lowercase snake\n",
    "    df.columns = df.columns.str.lower().str.replace(' ', '_')\n",
    "    \n",
    "    return df"
   ]
  },
  {
   "cell_type": "code",
   "execution_count": 6,
   "id": "a8e7d6c2",
   "metadata": {
    "execution": {
     "iopub.execute_input": "2023-10-10T16:16:45.571371Z",
     "iopub.status.busy": "2023-10-10T16:16:45.570926Z",
     "iopub.status.idle": "2023-10-10T16:16:45.579913Z",
     "shell.execute_reply": "2023-10-10T16:16:45.578711Z"
    },
    "papermill": {
     "duration": 0.016102,
     "end_time": "2023-10-10T16:16:45.582290",
     "exception": false,
     "start_time": "2023-10-10T16:16:45.566188",
     "status": "completed"
    },
    "tags": []
   },
   "outputs": [],
   "source": [
    "# Create raw label maps, simplified label maps, and cyberattack/no cyberattack label maps\n",
    "reduced_labels = {\n",
    "    'DDoS-RSTFINFlood': 'DDoS', 'DDoS-PSHACK_Flood': 'DDoS', 'DDoS-SYN_Flood': 'DDoS', \n",
    "    'DDoS-UDP_Flood': 'DDoS', 'DDoS-TCP_Flood': 'DDoS', 'DDoS-ICMP_Flood': 'DDoS', \n",
    "    'DDoS-SynonymousIP_Flood': 'DDoS', 'DDoS-ACK_Fragmentation': 'DDoS', \n",
    "    'DDoS-UDP_Fragmentation': 'DDoS', 'DDoS-ICMP_Fragmentation': 'DDoS', \n",
    "    'DDoS-SlowLoris': 'DDoS', 'DDoS-HTTP_Flood': 'DDoS', 'DoS-UDP_Flood': 'DoS', \n",
    "    'DoS-SYN_Flood': 'DoS', 'DoS-TCP_Flood': 'DoS', 'DoS-HTTP_Flood': 'DoS', \n",
    "    'Mirai-greeth_flood': 'Mirai', 'Mirai-greip_flood': 'Mirai', 'Mirai-udpplain': 'Mirai', \n",
    "    'Recon-PingSweep': 'Recon', 'Recon-OSScan': 'Recon', 'Recon-PortScan': 'Recon', \n",
    "    'VulnerabilityScan': 'Recon', 'Recon-HostDiscovery': 'Recon', 'DNS_Spoofing': 'Spoofing', \n",
    "    'MITM-ArpSpoofing': 'Spoofing', 'BenignTraffic': 'Benign', 'BrowserHijacking': 'Web', \n",
    "    'Backdoor_Malware': 'Web', 'XSS': 'Web', 'Uploading_Attack': 'Web', 'SqlInjection': 'Web', \n",
    "    'CommandInjection': 'Web', 'DictionaryBruteForce': 'BruteForce'\n",
    "}\n",
    "\n",
    "\n",
    "def label_map(df_34):\n",
    "    df_8 = df_34.copy()\n",
    "    df_2 = df_34.copy()\n",
    "    \n",
    "    # Adjust label classes\n",
    "    df_8['label'] = df_8['label'].apply(lambda attack_name : reduced_labels[attack_name])\n",
    "    df_2['benign'] = df_2['label'].apply(lambda attack : bool(attack == 'Benign') )\n",
    "    df_2['benign'] = df_2['benign'].astype(bool)\n",
    "    df_2.drop(['label'], axis=1)\n",
    "    \n",
    "    return df_34,df_8,df_2"
   ]
  },
  {
   "cell_type": "markdown",
   "id": "7273f5a0",
   "metadata": {
    "papermill": {
     "duration": 0.002949,
     "end_time": "2023-10-10T16:16:45.588641",
     "exception": false,
     "start_time": "2023-10-10T16:16:45.585692",
     "status": "completed"
    },
    "tags": []
   },
   "source": [
    "## Save CSV"
   ]
  },
  {
   "cell_type": "code",
   "execution_count": 7,
   "id": "4b20c09a",
   "metadata": {
    "execution": {
     "iopub.execute_input": "2023-10-10T16:16:45.597910Z",
     "iopub.status.busy": "2023-10-10T16:16:45.596647Z",
     "iopub.status.idle": "2023-10-10T16:16:45.605542Z",
     "shell.execute_reply": "2023-10-10T16:16:45.603941Z"
    },
    "papermill": {
     "duration": 0.016069,
     "end_time": "2023-10-10T16:16:45.607854",
     "exception": false,
     "start_time": "2023-10-10T16:16:45.591785",
     "status": "completed"
    },
    "tags": []
   },
   "outputs": [],
   "source": [
    "def write_helper(dfs, filename, append=True):\n",
    "    \"\"\" Creates or appends \"\"\"\n",
    "    \n",
    "    df_34,df_8,df_2 = dfs\n",
    "    \n",
    "    if append:\n",
    "        df_34.to_csv(filename+'_34classes.csv', mode='a', index=False, header=False)\n",
    "        df_8.to_csv(filename+'_8classes.csv', mode='a', index=False, header=False)\n",
    "        df_2.to_csv(filename+'_2classes.csv', mode='a', index=False, header=False)\n",
    "    else:\n",
    "        df_34.to_csv(filename+'_34classes.csv', index=False)\n",
    "        df_8.to_csv(filename+'_8classes.csv', index=False)\n",
    "        df_2.to_csv(filename+'_2classes.csv', index=False)"
   ]
  },
  {
   "cell_type": "code",
   "execution_count": 8,
   "id": "609a1b6e",
   "metadata": {
    "execution": {
     "iopub.execute_input": "2023-10-10T16:16:45.617599Z",
     "iopub.status.busy": "2023-10-10T16:16:45.616473Z",
     "iopub.status.idle": "2023-10-10T16:16:45.624643Z",
     "shell.execute_reply": "2023-10-10T16:16:45.623301Z"
    },
    "papermill": {
     "duration": 0.015513,
     "end_time": "2023-10-10T16:16:45.626924",
     "exception": false,
     "start_time": "2023-10-10T16:16:45.611411",
     "status": "completed"
    },
    "tags": []
   },
   "outputs": [],
   "source": [
    "def combine_csv(csv_files, percent):\n",
    "    '''\n",
    "    For memory-efficiency, extracts rows from one original CSV at a time. \n",
    "    Then, combines the rows into a larger CSV.\n",
    "    \n",
    "    Parameters\n",
    "    ---------------------\n",
    "    csv_files (type: list)\n",
    "    - Filepaths to the raw CSV files\n",
    "    \n",
    "    Returns\n",
    "    ---------------------\n",
    "    None\n",
    "    - Outputs to CSV file instead\n",
    "    '''\n",
    "    \n",
    "    # Init CSV\n",
    "    dfs = label_map(convert_dtype(iana_convert(sample_rows( \n",
    "        pd.read_csv(DATASET_DIRECTORY + csv_files[0]), percent_rows=percent\n",
    "    ))))\n",
    "    write_helper(dfs, f'/kaggle/working/{percent}percent', append=False)\n",
    "    del dfs\n",
    "    \n",
    "    print(f\"Appending into {percent} csv\")\n",
    "    for csv in csv_files[1:]:\n",
    "        print(\".\", end=\"\")\n",
    "        \n",
    "        # Preprocessing\n",
    "        dfs = label_map(convert_dtype(iana_convert(sample_rows( \n",
    "            pd.read_csv(DATASET_DIRECTORY + csv), percent_rows=percent\n",
    "        ))))\n",
    "        \n",
    "        # Append to CSV\n",
    "        write_helper(dfs, f'/kaggle/working/{percent}percent')\n",
    "        del dfs"
   ]
  },
  {
   "cell_type": "code",
   "execution_count": 9,
   "id": "6d437de5",
   "metadata": {
    "execution": {
     "iopub.execute_input": "2023-10-10T16:16:45.635553Z",
     "iopub.status.busy": "2023-10-10T16:16:45.635135Z",
     "iopub.status.idle": "2023-10-10T17:10:47.115816Z",
     "shell.execute_reply": "2023-10-10T17:10:47.113482Z"
    },
    "papermill": {
     "duration": 3241.492473,
     "end_time": "2023-10-10T17:10:47.122846",
     "exception": false,
     "start_time": "2023-10-10T16:16:45.630373",
     "status": "completed"
    },
    "tags": []
   },
   "outputs": [
    {
     "name": "stdout",
     "output_type": "stream",
     "text": [
      "Appending into 0.001 csv\n",
      "........................................................................................................................................................................Appending into 0.005 csv\n",
      "........................................................................................................................................................................Appending into 0.01 csv\n",
      "........................................................................................................................................................................Appending into 0.05 csv\n",
      "........................................................................................................................................................................Appending into 0.1 csv\n",
      "........................................................................................................................................................................"
     ]
    }
   ],
   "source": [
    "for percent in [0.001, 0.005, 0.01, 0.05, 0.1]:\n",
    "    combine_csv(csv_files, percent=percent)"
   ]
  }
 ],
 "metadata": {
  "kernelspec": {
   "display_name": "Python 3",
   "language": "python",
   "name": "python3"
  },
  "language_info": {
   "codemirror_mode": {
    "name": "ipython",
    "version": 3
   },
   "file_extension": ".py",
   "mimetype": "text/x-python",
   "name": "python",
   "nbconvert_exporter": "python",
   "pygments_lexer": "ipython3",
   "version": "3.10.12"
  },
  "papermill": {
   "default_parameters": {},
   "duration": 3246.428087,
   "end_time": "2023-10-10T17:10:47.919162",
   "environment_variables": {},
   "exception": null,
   "input_path": "__notebook__.ipynb",
   "output_path": "__notebook__.ipynb",
   "parameters": {},
   "start_time": "2023-10-10T16:16:41.491075",
   "version": "2.4.0"
  }
 },
 "nbformat": 4,
 "nbformat_minor": 5
}
