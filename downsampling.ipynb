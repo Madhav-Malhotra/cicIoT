{
 "cells": [
  {
   "cell_type": "markdown",
   "id": "12aa7ec0",
   "metadata": {
    "papermill": {
     "duration": 0.003642,
     "end_time": "2023-10-02T16:12:42.394284",
     "exception": false,
     "start_time": "2023-10-02T16:12:42.390642",
     "status": "completed"
    },
    "tags": []
   },
   "source": [
    "This notebook extracts 5% of records from the 13 GB CIC-IoT-2023 dataset. The aim is to **get a smaller dataset for quick experimentation while preserving class balance.**\n",
    "\n",
    "Author: [Vishnu Mugundan](https://www.linkedin.com/in/vishnu-mugundan?originalSubdomain=ca), Wat.ai, University of Waterloo\n",
    "\n",
    "Author: Madhav Malhotra, Wat.ai, University of Waterloo\n",
    "\n",
    "&nbsp; &nbsp; &nbsp;\n",
    "\n",
    "## Loading Libraries and Data\n",
    "\n",
    "Potentially map output labels to 8 simple classes or benign malicious?"
   ]
  },
  {
   "cell_type": "code",
   "execution_count": 1,
   "id": "b2c7184b",
   "metadata": {
    "execution": {
     "iopub.execute_input": "2023-10-02T16:12:42.405123Z",
     "iopub.status.busy": "2023-10-02T16:12:42.404298Z",
     "iopub.status.idle": "2023-10-02T16:12:42.787803Z",
     "shell.execute_reply": "2023-10-02T16:12:42.786714Z"
    },
    "papermill": {
     "duration": 0.392307,
     "end_time": "2023-10-02T16:12:42.790057",
     "exception": false,
     "start_time": "2023-10-02T16:12:42.397750",
     "status": "completed"
    },
    "tags": []
   },
   "outputs": [],
   "source": [
    "import os              # loading files\n",
    "import numpy as np     # intermediary data handling\n",
    "import pandas as pd    # data processing"
   ]
  },
  {
   "cell_type": "code",
   "execution_count": 2,
   "id": "c45daae9",
   "metadata": {
    "_cell_guid": "b1076dfc-b9ad-4769-8c92-a6c4dae69d19",
    "_uuid": "8f2839f25d086af736a60e9eeb907d3b93b6e0e5",
    "execution": {
     "iopub.execute_input": "2023-10-02T16:12:42.797594Z",
     "iopub.status.busy": "2023-10-02T16:12:42.797099Z",
     "iopub.status.idle": "2023-10-02T16:12:42.851848Z",
     "shell.execute_reply": "2023-10-02T16:12:42.850433Z"
    },
    "papermill": {
     "duration": 0.061285,
     "end_time": "2023-10-02T16:12:42.854194",
     "exception": false,
     "start_time": "2023-10-02T16:12:42.792909",
     "status": "completed"
    },
    "tags": []
   },
   "outputs": [],
   "source": [
    "# List CSV files\n",
    "DATASET_DIRECTORY = \"/kaggle/input/unb-cic-iot-dataset/wataiData/csv/CICIoT2023/\"\n",
    "csv_files = [k for k in os.listdir(DATASET_DIRECTORY) if k.endswith('.csv')]\n",
    "csv_files.sort()"
   ]
  },
  {
   "cell_type": "markdown",
   "id": "e5734223",
   "metadata": {
    "papermill": {
     "duration": 0.002574,
     "end_time": "2023-10-02T16:12:42.859706",
     "exception": false,
     "start_time": "2023-10-02T16:12:42.857132",
     "status": "completed"
    },
    "tags": []
   },
   "source": [
    "&nbsp; &nbsp; &nbsp;\n",
    "\n",
    "## Dataset Extraction Functions\n",
    "\n",
    "There's a function to sample random rows from the overall dataset, to remap IANA codes from integers to human-friendly labels, and to reduce memory usage by avoiding all float data types. "
   ]
  },
  {
   "cell_type": "code",
   "execution_count": 3,
   "id": "c85fca75",
   "metadata": {
    "execution": {
     "iopub.execute_input": "2023-10-02T16:12:42.866898Z",
     "iopub.status.busy": "2023-10-02T16:12:42.866495Z",
     "iopub.status.idle": "2023-10-02T16:12:42.873597Z",
     "shell.execute_reply": "2023-10-02T16:12:42.872374Z"
    },
    "papermill": {
     "duration": 0.013473,
     "end_time": "2023-10-02T16:12:42.875961",
     "exception": false,
     "start_time": "2023-10-02T16:12:42.862488",
     "status": "completed"
    },
    "tags": []
   },
   "outputs": [],
   "source": [
    "def sample_rows(df, percent_rows=0.05):\n",
    "    '''\n",
    "    Chooses some percentage of the dataframe's rows at random.\n",
    "    Note that class balance is preserved. \n",
    "    \n",
    "    Parameters\n",
    "    ----------------------\n",
    "    df (type: pd.DataFrame)\n",
    "    percent_rows (type: float, range: 0-1)\n",
    "    \n",
    "    Returns\n",
    "    ----------------------\n",
    "    pd.DataFrame\n",
    "    - Contains percent_rows of each class in input df\n",
    "    '''\n",
    "    \n",
    "    labels = df['label'].unique()\n",
    "    dfs_condensed = []\n",
    "    \n",
    "    # Select rows with chosen label\n",
    "    for label in labels:\n",
    "        mask = df['label'] == label\n",
    "        df_by_label = df[mask]\n",
    "        \n",
    "        # Randomly sample some percentage of rows in current class\n",
    "        sample = df_by_label.sample(frac = percent_rows)\n",
    "        dfs_condensed.append(sample)\n",
    "    \n",
    "    # gather all samples together and shuffle them\n",
    "    return pd.concat(dfs_condensed, ignore_index = True).sample(frac = 1)"
   ]
  },
  {
   "cell_type": "code",
   "execution_count": 4,
   "id": "8c493ec3",
   "metadata": {
    "execution": {
     "iopub.execute_input": "2023-10-02T16:12:42.883200Z",
     "iopub.status.busy": "2023-10-02T16:12:42.882803Z",
     "iopub.status.idle": "2023-10-02T16:12:42.896131Z",
     "shell.execute_reply": "2023-10-02T16:12:42.895047Z"
    },
    "papermill": {
     "duration": 0.019836,
     "end_time": "2023-10-02T16:12:42.898657",
     "exception": false,
     "start_time": "2023-10-02T16:12:42.878821",
     "status": "completed"
    },
    "tags": []
   },
   "outputs": [],
   "source": [
    "# Map IANA Protocol numbers to one-hot encoded boolean data\n",
    "iana_map = { \n",
    "    \"0\": \"HOPOPT\", \"1\": \"ICMP\", \"2\": \"IGMP\", \"3\": \"GGP\", \"4\": \"IPv4\", \"5\": \"ST\", \n",
    "    \"6\": \"TCP\", \"7\": \"CBT\", \"8\": \"EGP\", \"9\": \"IGP\", \"10\": \"BBN-RCC-MON\", \"11\": \"NVP-II\", \n",
    "    \"12\": \"PUP\", \"13\": \"ARGUS (deprecated)\", \"14\": \"EMCON\", \"15\": \"XNET\", \"16\": \"CHAOS\", \n",
    "    \"17\": \"UDP\", \"18\": \"MUX\", \"19\": \"DCN-MEAS\", \"20\": \"HMP\", \"21\": \"PRM\", \"22\": \"XNS-IDP\", \n",
    "    \"23\": \"TRUNK-1\", \"24\": \"TRUNK-2\", \"25\": \"LEAF-1\", \"26\": \"LEAF-2\", \"27\": \"RDP\", \n",
    "    \"28\": \"IRTP\", \"29\": \"ISO-TP4\", \"30\": \"NETBLT\", \"31\": \"MFE-NSP\", \"32\": \"MERIT-INP\", \n",
    "    \"33\": \"DCCP\", \"34\": \"3PC\", \"35\": \"IDPR\", \"36\": \"XTP\", \"37\": \"DDP\", \"38\": \"IDPR-CMTP\", \n",
    "    \"39\": \"TP++\", \"40\": \"IL\", \"41\": \"IPv6\", \"42\": \"SDRP\", \"43\": \"IPv6-Route\", \n",
    "    \"44\": \"IPv6-Frag\", \"45\": \"IDRP\", \"46\": \"RSVP\", \"47\": \"GRE\", \"48\": \"DSR\", \"49\": \"BNA\", \n",
    "    \"50\": \"ESP\", \"51\": \"AH\", \"52\": \"I-NLSP\", \"53\": \"SWIPE (deprecated)\", \"54\": \"NARP\", \n",
    "    \"55\": \"MOBILE\", \"56\": \"TLSP\", \"57\": \"SKIP\", \"58\": \"IPv6-ICMP\", \"59\": \"IPv6-NoNxt\", \n",
    "    \"60\": \"IPv6-Opts\", \"62\": \"CFTP\", \"64\": \"SAT-EXPAK\", \"65\": \"KRYPTOLAN\", \"66\": \"RVD\", \n",
    "    \"67\": \"IPPC\", \"69\": \"SAT-MON\", \"70\": \"VISA\", \"71\": \"IPCV\", \"72\": \"CPNX\", \"73\": \"CPHB\", \n",
    "    \"74\": \"WSN\", \"75\": \"PVP\", \"76\": \"BR-SAT-MON\", \"77\": \"SUN-ND\", \"78\": \"WB-MON\", \n",
    "    \"79\": \"WB-EXPAK\", \"80\": \"ISO-IP\", \"81\": \"VMTP\", \"82\": \"SECURE-VMTP\", \"83\": \"VINES\", \n",
    "    \"84\": \"IPTM\", \"85\": \"NSFNET-IGP\", \"86\": \"DGP\", \"87\": \"TCF\", \"88\": \"EIGRP\", \n",
    "    \"89\": \"OSPFIGP\", \"90\": \"Sprite-RPC\", \"91\": \"LARP\", \"92\": \"MTP\", \"93\": \"AX.25\", \n",
    "    \"94\": \"IPIP\", \"95\": \"MICP (deprecated)\",\"96\": \"SCC-SP\", \"97\": \"ETHERIP\", \"98\": \"ENCAP\", \n",
    "    \"100\": \"GMTP\", \"101\": \"IFMP\", \"102\": \"PNNI\", \"103\": \"PIM\", \"104\": \"ARIS\", \"105\": \"SCPS\", \n",
    "    \"106\": \"QNX\", \"107\": \"A/N\", \"108\": \"IPComp\", \"109\": \"SNP\", \"110\": \"Compaq-Peer\", \n",
    "    \"111\": \"IPX-in-IP\", \"112\": \"VRRP\", \"113\": \"PGM\", \"114\": \"\", \"115\": \"L2TP\", \"116\": \"DDX\",  \n",
    "    \"117\": \"IATP\", \"118\": \"STP\", \"119\": \"SRP\", \"120\": \"UTI\", \"121\": \"SMP\", \n",
    "    \"122\": \"SM (deprecated)\", \"123\": \"PTP\",\"124\": \"ISIS over IPv4\", \"125\": \"FIRE\", \n",
    "    \"126\": \"CRTP\", \"127\": \"CRUDP\", \"128\": \"SSCOPMCE\", \"129\": \"IPLT\", \"130\": \"SPS\", \n",
    "    \"131\": \"PIPE\", \"132\": \"SCTP\",  \"133\": \"FC\", \"134\": \"RSVP-E2E-IGNORE\", \n",
    "    \"135\": \"Mobility Header\", \"136\": \"UDPLite\", \"137\": \"MPLS-in-IP\", \"138\": \"manet\", \n",
    "    \"139\": \"HIP\", \"140\": \"Shim6\", \"141\": \"WESP\", \"142\": \"ROHC\", \"143\": \"Ethernet\", \n",
    "    \"144\": \"AGGFRAG\", \"145\": \"NSH\"\n",
    "}\n",
    "\n",
    "def iana_convert(df):\n",
    "    df[\"Protocol Type\"] = df[\"Protocol Type\"].apply(lambda num : iana_map[ str(int(num)) ])\n",
    "    return df"
   ]
  },
  {
   "cell_type": "code",
   "execution_count": 5,
   "id": "80442648",
   "metadata": {
    "execution": {
     "iopub.execute_input": "2023-10-02T16:12:42.905925Z",
     "iopub.status.busy": "2023-10-02T16:12:42.905559Z",
     "iopub.status.idle": "2023-10-02T16:12:42.915023Z",
     "shell.execute_reply": "2023-10-02T16:12:42.913738Z"
    },
    "papermill": {
     "duration": 0.01594,
     "end_time": "2023-10-02T16:12:42.917471",
     "exception": false,
     "start_time": "2023-10-02T16:12:42.901531",
     "status": "completed"
    },
    "tags": []
   },
   "outputs": [],
   "source": [
    "dtypes = {\n",
    "        'flow_duration': np.float32,\n",
    "        'Header_Length': np.uint32,\n",
    "        'Protocol Type': str,\n",
    "        'Duration': np.float32,\n",
    "        'Rate': np.uint32,\n",
    "        'Srate': np.uint32,\n",
    "        'Drate': np.float32,\n",
    "        'fin_flag_number': np.bool_,\n",
    "        'syn_flag_number': np.bool_,\n",
    "        'rst_flag_number': np.bool_,\n",
    "        'psh_flag_number': np.bool_,\n",
    "        'ack_flag_number': np.bool_,\n",
    "        'ece_flag_number': np.bool_,\n",
    "        'cwr_flag_number': np.bool_,\n",
    "        'ack_count': np.float16,\n",
    "        'syn_count': np.float16,\n",
    "        'fin_count': np.uint16,\n",
    "        'urg_count': np.uint16, \n",
    "        'rst_count': np.uint16, \n",
    "        'HTTP': np.bool_, \n",
    "        'HTTPS': np.bool_, \n",
    "        'DNS': np.bool_, \n",
    "        'Telnet': np.bool_,\n",
    "        'SMTP': np.bool_, \n",
    "        'SSH': np.bool_, \n",
    "        'IRC': np.bool_, \n",
    "        'TCP': np.bool_, \n",
    "        'UDP': np.bool_, \n",
    "        'DHCP': np.bool_, \n",
    "        'ARP': np.bool_, \n",
    "        'ICMP': np.bool_, \n",
    "        'IPv': np.bool_, \n",
    "        'LLC': np.bool_,\n",
    "        'Tot sum': np.float32, \n",
    "        'Min': np.float32, \n",
    "        'Max': np.float32, \n",
    "        'AVG': np.float32, \n",
    "        'Std': np.float32, \n",
    "        'Tot size': np.float32, \n",
    "        'IAT': np.float32, \n",
    "        'Number': np.float32,\n",
    "        'Magnitue': np.float32, \n",
    "        'Radius': np.float32, \n",
    "        'Covariance': np.float32, \n",
    "        'Variance': np.float32, \n",
    "        'Weight': np.float32, \n",
    "        'label': str\n",
    "    }\n",
    "\n",
    "def convert_dtype(df):\n",
    "    # Adjust data type\n",
    "    for col,typ in dtypes.items():\n",
    "        df[col] = df[col].astype(typ)   \n",
    "    \n",
    "    # Format column names to lowercase snake\n",
    "    df.columns = df.columns.str.lower().str.replace(' ', '_')\n",
    "    \n",
    "    return df"
   ]
  },
  {
   "cell_type": "markdown",
   "id": "700af90d",
   "metadata": {
    "papermill": {
     "duration": 0.00253,
     "end_time": "2023-10-02T16:12:42.922900",
     "exception": false,
     "start_time": "2023-10-02T16:12:42.920370",
     "status": "completed"
    },
    "tags": []
   },
   "source": [
    "## Save CSV"
   ]
  },
  {
   "cell_type": "code",
   "execution_count": 6,
   "id": "411934d7",
   "metadata": {
    "execution": {
     "iopub.execute_input": "2023-10-02T16:12:42.930622Z",
     "iopub.status.busy": "2023-10-02T16:12:42.929604Z",
     "iopub.status.idle": "2023-10-02T16:12:42.936857Z",
     "shell.execute_reply": "2023-10-02T16:12:42.935955Z"
    },
    "papermill": {
     "duration": 0.01344,
     "end_time": "2023-10-02T16:12:42.939171",
     "exception": false,
     "start_time": "2023-10-02T16:12:42.925731",
     "status": "completed"
    },
    "tags": []
   },
   "outputs": [],
   "source": [
    "def combine_csv(csv_files):\n",
    "    '''\n",
    "    For memory-efficiency, extracts rows from one original CSV at a time. \n",
    "    Then, combines the rows into a larger CSV.\n",
    "    \n",
    "    Parameters\n",
    "    ---------------------\n",
    "    csv_files (type: list)\n",
    "    - Filepaths to the raw CSV files\n",
    "    \n",
    "    Returns\n",
    "    ---------------------\n",
    "    None\n",
    "    - Outputs to CSV file instead\n",
    "    '''\n",
    "    \n",
    "    # Init CSV\n",
    "    first = convert_dtype(iana_convert(sample_rows( \n",
    "        pd.read_csv(DATASET_DIRECTORY + csv_files[0])\n",
    "    )))\n",
    "    first.to_csv('/kaggle/working/combined.csv', index=False)\n",
    "    del first\n",
    "    \n",
    "    print(\"Appending into combined csv\")\n",
    "    for csv in csv_files[1:]:\n",
    "        print(\".\", end=\"\")\n",
    "        \n",
    "        # Preprocessing\n",
    "        df = convert_dtype(iana_convert(sample_rows( \n",
    "            pd.read_csv(DATASET_DIRECTORY + csv) \n",
    "        )))\n",
    "        \n",
    "        # Append to CSV\n",
    "        df.to_csv('/kaggle/working/combined.csv', mode='a', index=False, header=False)\n",
    "        del df"
   ]
  },
  {
   "cell_type": "code",
   "execution_count": 7,
   "id": "cf6a7258",
   "metadata": {
    "execution": {
     "iopub.execute_input": "2023-10-02T16:12:42.946612Z",
     "iopub.status.busy": "2023-10-02T16:12:42.945901Z",
     "iopub.status.idle": "2023-10-02T16:22:01.561744Z",
     "shell.execute_reply": "2023-10-02T16:22:01.560377Z"
    },
    "papermill": {
     "duration": 558.62266,
     "end_time": "2023-10-02T16:22:01.564741",
     "exception": false,
     "start_time": "2023-10-02T16:12:42.942081",
     "status": "completed"
    },
    "tags": []
   },
   "outputs": [
    {
     "name": "stdout",
     "output_type": "stream",
     "text": [
      "Appending into combined csv\n",
      "........................................................................................................................................................................"
     ]
    }
   ],
   "source": [
    "combine_csv(csv_files)"
   ]
  }
 ],
 "metadata": {
  "kernelspec": {
   "display_name": "Python 3",
   "language": "python",
   "name": "python3"
  },
  "language_info": {
   "codemirror_mode": {
    "name": "ipython",
    "version": 3
   },
   "file_extension": ".py",
   "mimetype": "text/x-python",
   "name": "python",
   "nbconvert_exporter": "python",
   "pygments_lexer": "ipython3",
   "version": "3.10.12"
  },
  "papermill": {
   "default_parameters": {},
   "duration": 562.813842,
   "end_time": "2023-10-02T16:22:02.100285",
   "environment_variables": {},
   "exception": null,
   "input_path": "__notebook__.ipynb",
   "output_path": "__notebook__.ipynb",
   "parameters": {},
   "start_time": "2023-10-02T16:12:39.286443",
   "version": "2.4.0"
  }
 },
 "nbformat": 4,
 "nbformat_minor": 5
}
